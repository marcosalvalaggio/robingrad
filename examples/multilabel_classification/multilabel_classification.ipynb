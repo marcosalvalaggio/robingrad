{
 "cells": [
  {
   "cell_type": "markdown",
   "id": "20725269-126d-471d-8aa9-8614c4851cb3",
   "metadata": {
    "tags": []
   },
   "source": [
    "## Multilabel Classification"
   ]
  },
  {
   "cell_type": "code",
   "execution_count": 1,
   "id": "e14cc9e3-71fe-4e77-901c-dceb007390f6",
   "metadata": {},
   "outputs": [],
   "source": [
    "from robingrad import Tensor, draw_dot\n",
    "import robingrad.nn as nn\n",
    "from robingrad.optim import SGD\n",
    "from robingrad.state import get_parameters\n",
    "from sklearn import datasets\n",
    "import pandas as pd\n",
    "import numpy as np\n",
    "import edamame.eda as eda\n",
    "import time\n",
    "from sklearn.metrics import confusion_matrix\n",
    "import seaborn as sns\n",
    "import matplotlib.pyplot as plt \n",
    "%matplotlib inline"
   ]
  },
  {
   "cell_type": "markdown",
   "id": "1ab03511-ad16-4706-8ceb-ec58c5b5b3aa",
   "metadata": {},
   "source": [
    "### Dataset"
   ]
  },
  {
   "cell_type": "code",
   "execution_count": 2,
   "id": "c1d321d8-6c23-48c4-9559-077cc2e007d6",
   "metadata": {},
   "outputs": [
    {
     "name": "stdout",
     "output_type": "stream",
     "text": [
      "(150, 4)\n",
      "<class 'numpy.ndarray'>\n",
      "(150,)\n",
      "<class 'numpy.ndarray'>\n",
      "3\n"
     ]
    }
   ],
   "source": [
    "iris = datasets.load_iris()\n",
    "X = iris.data\n",
    "y = iris.target\n",
    "print(X.shape)\n",
    "print(type(X))\n",
    "print(y.shape)\n",
    "print(type(y))\n",
    "num_classes = len(np.unique(y))\n",
    "print(num_classes)"
   ]
  },
  {
   "cell_type": "code",
   "execution_count": 3,
   "id": "e0ce4e2b-6951-445c-8729-6d35373b2b62",
   "metadata": {},
   "outputs": [
    {
     "data": {
      "text/html": [
       "<div>\n",
       "<style scoped>\n",
       "    .dataframe tbody tr th:only-of-type {\n",
       "        vertical-align: middle;\n",
       "    }\n",
       "\n",
       "    .dataframe tbody tr th {\n",
       "        vertical-align: top;\n",
       "    }\n",
       "\n",
       "    .dataframe thead th {\n",
       "        text-align: right;\n",
       "    }\n",
       "</style>\n",
       "<table border=\"1\" class=\"dataframe\">\n",
       "  <thead>\n",
       "    <tr style=\"text-align: right;\">\n",
       "      <th></th>\n",
       "      <th>sepal length (cm)</th>\n",
       "      <th>sepal width (cm)</th>\n",
       "      <th>petal length (cm)</th>\n",
       "      <th>petal width (cm)</th>\n",
       "    </tr>\n",
       "  </thead>\n",
       "  <tbody>\n",
       "    <tr>\n",
       "      <th>0</th>\n",
       "      <td>5.1</td>\n",
       "      <td>3.5</td>\n",
       "      <td>1.4</td>\n",
       "      <td>0.2</td>\n",
       "    </tr>\n",
       "    <tr>\n",
       "      <th>1</th>\n",
       "      <td>4.9</td>\n",
       "      <td>3.0</td>\n",
       "      <td>1.4</td>\n",
       "      <td>0.2</td>\n",
       "    </tr>\n",
       "    <tr>\n",
       "      <th>2</th>\n",
       "      <td>4.7</td>\n",
       "      <td>3.2</td>\n",
       "      <td>1.3</td>\n",
       "      <td>0.2</td>\n",
       "    </tr>\n",
       "    <tr>\n",
       "      <th>3</th>\n",
       "      <td>4.6</td>\n",
       "      <td>3.1</td>\n",
       "      <td>1.5</td>\n",
       "      <td>0.2</td>\n",
       "    </tr>\n",
       "    <tr>\n",
       "      <th>4</th>\n",
       "      <td>5.0</td>\n",
       "      <td>3.6</td>\n",
       "      <td>1.4</td>\n",
       "      <td>0.2</td>\n",
       "    </tr>\n",
       "  </tbody>\n",
       "</table>\n",
       "</div>"
      ],
      "text/plain": [
       "   sepal length (cm)  sepal width (cm)  petal length (cm)  petal width (cm)\n",
       "0                5.1               3.5                1.4               0.2\n",
       "1                4.9               3.0                1.4               0.2\n",
       "2                4.7               3.2                1.3               0.2\n",
       "3                4.6               3.1                1.5               0.2\n",
       "4                5.0               3.6                1.4               0.2"
      ]
     },
     "execution_count": 3,
     "metadata": {},
     "output_type": "execute_result"
    }
   ],
   "source": [
    "X = pd.DataFrame(X, columns=iris.feature_names)\n",
    "X.head()"
   ]
  },
  {
   "cell_type": "code",
   "execution_count": 4,
   "id": "36c5324f-0097-4573-b925-1e4d64359890",
   "metadata": {},
   "outputs": [
    {
     "data": {
      "text/plain": [
       "0    0\n",
       "1    0\n",
       "2    0\n",
       "3    0\n",
       "4    0\n",
       "dtype: int64"
      ]
     },
     "execution_count": 4,
     "metadata": {},
     "output_type": "execute_result"
    }
   ],
   "source": [
    "y = pd.Series(y)\n",
    "y.head()"
   ]
  },
  {
   "cell_type": "code",
   "execution_count": 5,
   "id": "4fbe526b-8ef4-47d6-9967-78250d56812b",
   "metadata": {},
   "outputs": [
    {
     "name": "stdout",
     "output_type": "stream",
     "text": [
      "(112, 4)\n",
      "(38, 4)\n",
      "(112,)\n",
      "(38,)\n"
     ]
    }
   ],
   "source": [
    "X_train, y_train, X_test, y_test = eda.setup(X,y)\n",
    "print(X_train.shape)\n",
    "print(X_test.shape)\n",
    "print(y_train.shape)\n",
    "print(y_test.shape)"
   ]
  },
  {
   "cell_type": "code",
   "execution_count": 6,
   "id": "f55c02cb-3223-495a-b6da-30cdfb3170be",
   "metadata": {},
   "outputs": [
    {
     "name": "stdout",
     "output_type": "stream",
     "text": [
      "(112, 4)\n",
      "(38, 4)\n",
      "(112,)\n",
      "(38,)\n"
     ]
    }
   ],
   "source": [
    "X_train_s = eda.scaling(X_train)\n",
    "X_test_s = eda.scaling(X_test)\n",
    "y_train = y_train.squeeze().to_numpy()\n",
    "y_test = y_test.squeeze().to_numpy()\n",
    "print(X_train_s.shape)\n",
    "print(X_test_s.shape)\n",
    "print(y_train.shape)\n",
    "print(y_test.shape)"
   ]
  },
  {
   "cell_type": "code",
   "execution_count": 7,
   "id": "bc9208ee-cf21-4b6b-9359-0fd4f57de6db",
   "metadata": {},
   "outputs": [
    {
     "data": {
      "text/plain": [
       "array([[1., 0., 0.],\n",
       "       [1., 0., 0.],\n",
       "       [0., 0., 1.],\n",
       "       [0., 1., 0.],\n",
       "       [0., 1., 0.]])"
      ]
     },
     "execution_count": 7,
     "metadata": {},
     "output_type": "execute_result"
    }
   ],
   "source": [
    "y_train_ohe = np.eye(num_classes)[y_train]\n",
    "y_train_ohe[:5]"
   ]
  },
  {
   "cell_type": "code",
   "execution_count": 8,
   "id": "8e07f333-1c9f-49a6-96dd-0f14538741e3",
   "metadata": {},
   "outputs": [
    {
     "name": "stdout",
     "output_type": "stream",
     "text": [
      "<class 'robingrad.tensor.Tensor'> (112, 4)\n",
      "<class 'robingrad.tensor.Tensor'> (112, 3)\n"
     ]
    }
   ],
   "source": [
    "X_train_t = Tensor(X_train_s, requires_grad=True)\n",
    "print(type(X_train_t), X_train_t.shape)\n",
    "y_train_ohe_t = Tensor(y_train_ohe, requires_grad=True).reshape((112,3))\n",
    "print(type(y_train_ohe_t), y_train_ohe_t.shape)"
   ]
  },
  {
   "cell_type": "code",
   "execution_count": 93,
   "id": "e7a064b4-1dac-4395-85b1-7fb81b656d5d",
   "metadata": {},
   "outputs": [],
   "source": [
    "class RobinNet:\n",
    "    def __init__(self):\n",
    "        self.l1 = nn.Linear(4, 16, mean=0.001)\n",
    "        self.l2 = nn.Linear(16, 16, mean=0.001)\n",
    "        self.l3 = nn.Linear(16, 3, mean=0.001)\n",
    "    def __call__(self, x):\n",
    "        x = self.l1(x)\n",
    "        x = x.relu()\n",
    "        x = self.l2(x)\n",
    "        x = x.relu()\n",
    "        x = self.l3(x)\n",
    "\n",
    "        return x"
   ]
  },
  {
   "cell_type": "code",
   "execution_count": 94,
   "id": "29d26290-f3bb-4231-9b0c-a99680ef1cef",
   "metadata": {},
   "outputs": [],
   "source": [
    "model = RobinNet()\n",
    "params = get_parameters(model)\n",
    "opt = SGD(params)"
   ]
  },
  {
   "cell_type": "code",
   "execution_count": 95,
   "id": "31ac5e67-28a3-4bdb-83ac-b5b96adeb8ad",
   "metadata": {},
   "outputs": [],
   "source": [
    "def cross_entropy_loss(forward_array, target):\n",
    "    exp_forward = forward_array.exp()\n",
    "    norm_term = Tensor.full_like(exp_forward, fill_value=exp_forward.sum().data, requires_grad=True)\n",
    "    softmax_vec = exp_forward/norm_term\n",
    "    neg_output = 1 - softmax_vec\n",
    "    bce_losses = -(target * softmax_vec.log() + (1-target)*neg_output.log())\n",
    "    BCELoss = bce_losses.sum()\n",
    "    y_pred = softmax_vec.data.tolist()[0].index(max(softmax_vec.data.tolist()[0]))\n",
    "    return BCELoss, y_pred"
   ]
  },
  {
   "cell_type": "code",
   "execution_count": 96,
   "id": "3950fb95-72f5-4418-96c2-ab23e01569de",
   "metadata": {},
   "outputs": [],
   "source": [
    "def accuracy_val(y_pred, y_true):\n",
    "    y_pred = np.array(y_pred).round()\n",
    "    correct_results = np.sum(y_pred == y_true)\n",
    "    acc = correct_results/y_true.shape[0]\n",
    "    acc = np.round(acc * 100)\n",
    "    return acc"
   ]
  },
  {
   "cell_type": "code",
   "execution_count": 97,
   "id": "61c8ce40-7887-4346-b3a3-369d928cec48",
   "metadata": {},
   "outputs": [
    {
     "ename": "ValueError",
     "evalue": "can't log negative or zero value",
     "output_type": "error",
     "traceback": [
      "\u001b[0;31m---------------------------------------------------------------------------\u001b[0m",
      "\u001b[0;31mValueError\u001b[0m                                Traceback (most recent call last)",
      "Input \u001b[0;32mIn [97]\u001b[0m, in \u001b[0;36m<cell line: 2>\u001b[0;34m()\u001b[0m\n\u001b[1;32m      6\u001b[0m \u001b[38;5;28;01mfor\u001b[39;00m i \u001b[38;5;129;01min\u001b[39;00m \u001b[38;5;28mrange\u001b[39m(X_train_t\u001b[38;5;241m.\u001b[39mshape[\u001b[38;5;241m0\u001b[39m]):\n\u001b[1;32m      7\u001b[0m     output \u001b[38;5;241m=\u001b[39m model(X_train_t[i]\u001b[38;5;241m.\u001b[39mreshape((\u001b[38;5;241m1\u001b[39m,\u001b[38;5;241m4\u001b[39m)))\n\u001b[0;32m----> 8\u001b[0m     loss, y_pred_i \u001b[38;5;241m=\u001b[39m \u001b[43mcross_entropy_loss\u001b[49m\u001b[43m(\u001b[49m\u001b[43moutput\u001b[49m\u001b[43m,\u001b[49m\u001b[43m \u001b[49m\u001b[43my_train_ohe_t\u001b[49m\u001b[43m[\u001b[49m\u001b[43mi\u001b[49m\u001b[43m]\u001b[49m\u001b[38;5;241;43m.\u001b[39;49m\u001b[43mreshape\u001b[49m\u001b[43m(\u001b[49m\u001b[43m(\u001b[49m\u001b[38;5;241;43m1\u001b[39;49m\u001b[43m,\u001b[49m\u001b[38;5;241;43m3\u001b[39;49m\u001b[43m)\u001b[49m\u001b[43m)\u001b[49m\u001b[43m)\u001b[49m\n\u001b[1;32m      9\u001b[0m     losses\u001b[38;5;241m.\u001b[39mappend(loss\u001b[38;5;241m.\u001b[39mdata)\n\u001b[1;32m     10\u001b[0m     y_pred\u001b[38;5;241m.\u001b[39mappend(y_pred_i)\n",
      "Input \u001b[0;32mIn [95]\u001b[0m, in \u001b[0;36mcross_entropy_loss\u001b[0;34m(forward_array, target)\u001b[0m\n\u001b[1;32m      4\u001b[0m softmax_vec \u001b[38;5;241m=\u001b[39m exp_forward\u001b[38;5;241m/\u001b[39mnorm_term\n\u001b[1;32m      5\u001b[0m neg_output \u001b[38;5;241m=\u001b[39m \u001b[38;5;241m1\u001b[39m \u001b[38;5;241m-\u001b[39m softmax_vec\n\u001b[0;32m----> 6\u001b[0m bce_losses \u001b[38;5;241m=\u001b[39m \u001b[38;5;241m-\u001b[39m(target \u001b[38;5;241m*\u001b[39m softmax_vec\u001b[38;5;241m.\u001b[39mlog() \u001b[38;5;241m+\u001b[39m (\u001b[38;5;241m1\u001b[39m\u001b[38;5;241m-\u001b[39mtarget)\u001b[38;5;241m*\u001b[39m\u001b[43mneg_output\u001b[49m\u001b[38;5;241;43m.\u001b[39;49m\u001b[43mlog\u001b[49m\u001b[43m(\u001b[49m\u001b[43m)\u001b[49m)\n\u001b[1;32m      7\u001b[0m BCELoss \u001b[38;5;241m=\u001b[39m bce_losses\u001b[38;5;241m.\u001b[39msum()\n\u001b[1;32m      8\u001b[0m y_pred \u001b[38;5;241m=\u001b[39m softmax_vec\u001b[38;5;241m.\u001b[39mdata\u001b[38;5;241m.\u001b[39mtolist()[\u001b[38;5;241m0\u001b[39m]\u001b[38;5;241m.\u001b[39mindex(\u001b[38;5;28mmax\u001b[39m(softmax_vec\u001b[38;5;241m.\u001b[39mdata\u001b[38;5;241m.\u001b[39mtolist()[\u001b[38;5;241m0\u001b[39m]))\n",
      "File \u001b[0;32m~/opt/anaconda3/lib/python3.9/site-packages/robingrad/tensor.py:133\u001b[0m, in \u001b[0;36mTensor.log\u001b[0;34m(self)\u001b[0m\n\u001b[1;32m    131\u001b[0m \u001b[38;5;28;01mdef\u001b[39;00m \u001b[38;5;21mlog\u001b[39m(\u001b[38;5;28mself\u001b[39m) \u001b[38;5;241m-\u001b[39m\u001b[38;5;241m>\u001b[39m \u001b[38;5;124m\"\u001b[39m\u001b[38;5;124mTensor\u001b[39m\u001b[38;5;124m\"\u001b[39m:\n\u001b[1;32m    132\u001b[0m     \u001b[38;5;28;01mif\u001b[39;00m np\u001b[38;5;241m.\u001b[39many(\u001b[38;5;28mself\u001b[39m\u001b[38;5;241m.\u001b[39mdata \u001b[38;5;241m<\u001b[39m\u001b[38;5;241m=\u001b[39m \u001b[38;5;241m0\u001b[39m):\n\u001b[0;32m--> 133\u001b[0m         \u001b[38;5;28;01mraise\u001b[39;00m \u001b[38;5;167;01mValueError\u001b[39;00m(\u001b[38;5;124m\"\u001b[39m\u001b[38;5;124mcan\u001b[39m\u001b[38;5;124m'\u001b[39m\u001b[38;5;124mt log negative or zero value\u001b[39m\u001b[38;5;124m\"\u001b[39m)\n\u001b[1;32m    134\u001b[0m     x \u001b[38;5;241m=\u001b[39m \u001b[38;5;28mself\u001b[39m\u001b[38;5;241m.\u001b[39mdata\n\u001b[1;32m    135\u001b[0m     out \u001b[38;5;241m=\u001b[39m Tensor(np\u001b[38;5;241m.\u001b[39mlog(x), dtype\u001b[38;5;241m=\u001b[39m\u001b[38;5;28mself\u001b[39m\u001b[38;5;241m.\u001b[39mdata\u001b[38;5;241m.\u001b[39mdtype, _children\u001b[38;5;241m=\u001b[39m(\u001b[38;5;28mself\u001b[39m,), _op\u001b[38;5;241m=\u001b[39m\u001b[38;5;124m\"\u001b[39m\u001b[38;5;124mlog()\u001b[39m\u001b[38;5;124m\"\u001b[39m, _origin\u001b[38;5;241m=\u001b[39m\u001b[38;5;124m\"\u001b[39m\u001b[38;5;124mlog\u001b[39m\u001b[38;5;124m\"\u001b[39m, requires_grad\u001b[38;5;241m=\u001b[39m\u001b[38;5;28mself\u001b[39m\u001b[38;5;241m.\u001b[39mrequires_grad)\n",
      "\u001b[0;31mValueError\u001b[0m: can't log negative or zero value"
     ]
    }
   ],
   "source": [
    "epochs = 200\n",
    "for epoch in range(epochs):\n",
    "    y_pred = []\n",
    "    losses = []\n",
    "    s = time.monotonic()\n",
    "    for i in range(X_train_t.shape[0]):\n",
    "        output = model(X_train_t[i].reshape((1,4)))\n",
    "        loss, y_pred_i = cross_entropy_loss(output, y_train_ohe_t[i].reshape((1,3)))\n",
    "        losses.append(loss.data)\n",
    "        y_pred.append(y_pred_i)\n",
    "        opt.zero_grad()\n",
    "        loss.backward()\n",
    "        opt.step()\n",
    "    e = time.monotonic()\n",
    "    t = e - s\n",
    "    acc = accuracy_val(y_pred=y_pred, y_true=y_train)\n",
    "    loss_epoch = sum(losses)/len(losses)\n",
    "    if epoch % 10 == 0 or epoch==(epochs-1):\n",
    "        print(f\"epoch: {epoch} | loss: {loss_epoch:.2f} | time: {t:.2f} sec. | acc: {acc:.2f}%\")"
   ]
  },
  {
   "cell_type": "code",
   "execution_count": 98,
   "id": "978d9105-f2f5-464a-9c28-aab4c93b2a20",
   "metadata": {},
   "outputs": [],
   "source": [
    "model = RobinNet()\n",
    "params = get_parameters(model)\n",
    "opt = SGD(params)"
   ]
  },
  {
   "cell_type": "code",
   "execution_count": 115,
   "id": "7dd91237-aa42-468a-b6cc-409fdc912aa7",
   "metadata": {},
   "outputs": [
    {
     "name": "stdout",
     "output_type": "stream",
     "text": [
      "output: [[ 13.452124  -15.72418    -3.9871705]]\n",
      "target: [[1. 0. 0.]]\n",
      "y_true: 0\n",
      "exp_forward: [[6.9531731e+05 1.4827752e-07 1.8552134e-02]]\n",
      "norm_term: [[695317.3 695317.3 695317.3]]\n",
      "softmax_vec: [[1.0000000e+00 2.1325159e-13 2.6681535e-08]]\n",
      "neg_output: [[0. 1. 1.]]\n"
     ]
    },
    {
     "ename": "ValueError",
     "evalue": "can't log negative or zero value",
     "output_type": "error",
     "traceback": [
      "\u001b[0;31m---------------------------------------------------------------------------\u001b[0m",
      "\u001b[0;31mValueError\u001b[0m                                Traceback (most recent call last)",
      "Input \u001b[0;32mIn [115]\u001b[0m, in \u001b[0;36m<cell line: 23>\u001b[0;34m()\u001b[0m\n\u001b[1;32m     21\u001b[0m     y_pred \u001b[38;5;241m=\u001b[39m softmax_vec\u001b[38;5;241m.\u001b[39mdata\u001b[38;5;241m.\u001b[39mtolist()[\u001b[38;5;241m0\u001b[39m]\u001b[38;5;241m.\u001b[39mindex(\u001b[38;5;28mmax\u001b[39m(softmax_vec\u001b[38;5;241m.\u001b[39mdata\u001b[38;5;241m.\u001b[39mtolist()[\u001b[38;5;241m0\u001b[39m]))\n\u001b[1;32m     22\u001b[0m     \u001b[38;5;28;01mreturn\u001b[39;00m BCELoss, y_pred\n\u001b[0;32m---> 23\u001b[0m loss, pred \u001b[38;5;241m=\u001b[39m \u001b[43mcross_entropy_loss\u001b[49m\u001b[43m(\u001b[49m\u001b[43moutput\u001b[49m\u001b[43m,\u001b[49m\u001b[43m \u001b[49m\u001b[43mtarget\u001b[49m\u001b[43m)\u001b[49m\n\u001b[1;32m     24\u001b[0m opt\u001b[38;5;241m.\u001b[39mzero_grad()\n\u001b[1;32m     25\u001b[0m loss\u001b[38;5;241m.\u001b[39mbackward()\n",
      "Input \u001b[0;32mIn [115]\u001b[0m, in \u001b[0;36mcross_entropy_loss\u001b[0;34m(forward_array, target)\u001b[0m\n\u001b[1;32m     15\u001b[0m neg_output \u001b[38;5;241m=\u001b[39m \u001b[38;5;241m1\u001b[39m \u001b[38;5;241m-\u001b[39m softmax_vec\n\u001b[1;32m     16\u001b[0m \u001b[38;5;28mprint\u001b[39m(\u001b[38;5;124mf\u001b[39m\u001b[38;5;124m\"\u001b[39m\u001b[38;5;124mneg_output: \u001b[39m\u001b[38;5;132;01m{\u001b[39;00mneg_output\u001b[38;5;241m.\u001b[39mdata\u001b[38;5;132;01m}\u001b[39;00m\u001b[38;5;124m\"\u001b[39m)\n\u001b[0;32m---> 17\u001b[0m bce_losses \u001b[38;5;241m=\u001b[39m \u001b[38;5;241m-\u001b[39m(target \u001b[38;5;241m*\u001b[39m softmax_vec\u001b[38;5;241m.\u001b[39mlog() \u001b[38;5;241m+\u001b[39m (\u001b[38;5;241m1\u001b[39m\u001b[38;5;241m-\u001b[39mtarget)\u001b[38;5;241m*\u001b[39m\u001b[43mneg_output\u001b[49m\u001b[38;5;241;43m.\u001b[39;49m\u001b[43mlog\u001b[49m\u001b[43m(\u001b[49m\u001b[43m)\u001b[49m)\n\u001b[1;32m     18\u001b[0m \u001b[38;5;28mprint\u001b[39m(\u001b[38;5;124mf\u001b[39m\u001b[38;5;124m\"\u001b[39m\u001b[38;5;124mbce_losses: \u001b[39m\u001b[38;5;132;01m{\u001b[39;00mbce_losses\u001b[38;5;241m.\u001b[39mdata\u001b[38;5;132;01m}\u001b[39;00m\u001b[38;5;124m\"\u001b[39m)\n\u001b[1;32m     19\u001b[0m BCELoss \u001b[38;5;241m=\u001b[39m bce_losses\u001b[38;5;241m.\u001b[39msum()\n",
      "File \u001b[0;32m~/opt/anaconda3/lib/python3.9/site-packages/robingrad/tensor.py:133\u001b[0m, in \u001b[0;36mTensor.log\u001b[0;34m(self)\u001b[0m\n\u001b[1;32m    131\u001b[0m \u001b[38;5;28;01mdef\u001b[39;00m \u001b[38;5;21mlog\u001b[39m(\u001b[38;5;28mself\u001b[39m) \u001b[38;5;241m-\u001b[39m\u001b[38;5;241m>\u001b[39m \u001b[38;5;124m\"\u001b[39m\u001b[38;5;124mTensor\u001b[39m\u001b[38;5;124m\"\u001b[39m:\n\u001b[1;32m    132\u001b[0m     \u001b[38;5;28;01mif\u001b[39;00m np\u001b[38;5;241m.\u001b[39many(\u001b[38;5;28mself\u001b[39m\u001b[38;5;241m.\u001b[39mdata \u001b[38;5;241m<\u001b[39m\u001b[38;5;241m=\u001b[39m \u001b[38;5;241m0\u001b[39m):\n\u001b[0;32m--> 133\u001b[0m         \u001b[38;5;28;01mraise\u001b[39;00m \u001b[38;5;167;01mValueError\u001b[39;00m(\u001b[38;5;124m\"\u001b[39m\u001b[38;5;124mcan\u001b[39m\u001b[38;5;124m'\u001b[39m\u001b[38;5;124mt log negative or zero value\u001b[39m\u001b[38;5;124m\"\u001b[39m)\n\u001b[1;32m    134\u001b[0m     x \u001b[38;5;241m=\u001b[39m \u001b[38;5;28mself\u001b[39m\u001b[38;5;241m.\u001b[39mdata\n\u001b[1;32m    135\u001b[0m     out \u001b[38;5;241m=\u001b[39m Tensor(np\u001b[38;5;241m.\u001b[39mlog(x), dtype\u001b[38;5;241m=\u001b[39m\u001b[38;5;28mself\u001b[39m\u001b[38;5;241m.\u001b[39mdata\u001b[38;5;241m.\u001b[39mdtype, _children\u001b[38;5;241m=\u001b[39m(\u001b[38;5;28mself\u001b[39m,), _op\u001b[38;5;241m=\u001b[39m\u001b[38;5;124m\"\u001b[39m\u001b[38;5;124mlog()\u001b[39m\u001b[38;5;124m\"\u001b[39m, _origin\u001b[38;5;241m=\u001b[39m\u001b[38;5;124m\"\u001b[39m\u001b[38;5;124mlog\u001b[39m\u001b[38;5;124m\"\u001b[39m, requires_grad\u001b[38;5;241m=\u001b[39m\u001b[38;5;28mself\u001b[39m\u001b[38;5;241m.\u001b[39mrequires_grad)\n",
      "\u001b[0;31mValueError\u001b[0m: can't log negative or zero value"
     ]
    }
   ],
   "source": [
    "index = 19\n",
    "output = model(X_train_t[index].reshape((1,4)))\n",
    "print(f\"output: {output.data}\")\n",
    "target = y_train_ohe_t[index].reshape((1,3))\n",
    "print(f\"target: {target.data}\")\n",
    "y_true = y_train[index]\n",
    "print(f\"y_true: {y_true}\")\n",
    "def cross_entropy_loss(forward_array, target):\n",
    "    exp_forward = forward_array.exp()\n",
    "    print(f\"exp_forward: {exp_forward.data}\")\n",
    "    norm_term = Tensor.full_like(exp_forward, fill_value=exp_forward.sum().data, requires_grad=True)\n",
    "    print(f\"norm_term: {norm_term.data}\")\n",
    "    softmax_vec = exp_forward/norm_term\n",
    "    print(f\"softmax_vec: {softmax_vec.data}\")\n",
    "    neg_output = 1 - softmax_vec\n",
    "    print(f\"neg_output: {neg_output.data}\")\n",
    "    bce_losses = -(target * softmax_vec.log() + (1-target)*neg_output.log())\n",
    "    print(f\"bce_losses: {bce_losses.data}\")\n",
    "    BCELoss = bce_losses.sum()\n",
    "    print(f\"BCELoss: {BCELoss.data}\")\n",
    "    y_pred = softmax_vec.data.tolist()[0].index(max(softmax_vec.data.tolist()[0]))\n",
    "    return BCELoss, y_pred\n",
    "loss, pred = cross_entropy_loss(output, target)\n",
    "opt.zero_grad()\n",
    "loss.backward()\n",
    "opt.step()\n",
    "print(pred)"
   ]
  },
  {
   "cell_type": "code",
   "execution_count": 124,
   "id": "c217cd65-f829-428b-beff-edd3da50d355",
   "metadata": {},
   "outputs": [
    {
     "data": {
      "text/plain": [
       "-46.051701859880914"
      ]
     },
     "execution_count": 124,
     "metadata": {},
     "output_type": "execute_result"
    }
   ],
   "source": [
    "np.log(1e-20)"
   ]
  },
  {
   "cell_type": "code",
   "execution_count": 122,
   "id": "69cdb7a0-b67e-41e9-8e6b-32a47c438696",
   "metadata": {},
   "outputs": [
    {
     "data": {
      "text/plain": [
       "1e-10"
      ]
     },
     "execution_count": 122,
     "metadata": {},
     "output_type": "execute_result"
    }
   ],
   "source": [
    "1e-10"
   ]
  }
 ],
 "metadata": {
  "kernelspec": {
   "display_name": "Python 3 (ipykernel)",
   "language": "python",
   "name": "python3"
  },
  "language_info": {
   "codemirror_mode": {
    "name": "ipython",
    "version": 3
   },
   "file_extension": ".py",
   "mimetype": "text/x-python",
   "name": "python",
   "nbconvert_exporter": "python",
   "pygments_lexer": "ipython3",
   "version": "3.9.12"
  }
 },
 "nbformat": 4,
 "nbformat_minor": 5
}
