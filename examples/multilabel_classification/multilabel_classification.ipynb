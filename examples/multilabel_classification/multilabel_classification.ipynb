{
 "cells": [
  {
   "cell_type": "markdown",
   "id": "20725269-126d-471d-8aa9-8614c4851cb3",
   "metadata": {
    "tags": []
   },
   "source": [
    "## Multilabel Classification"
   ]
  },
  {
   "cell_type": "code",
   "execution_count": 192,
   "id": "e14cc9e3-71fe-4e77-901c-dceb007390f6",
   "metadata": {},
   "outputs": [],
   "source": [
    "from robingrad import Tensor, draw_dot\n",
    "import robingrad.nn as nn\n",
    "from robingrad.optim import SGD, Adam\n",
    "from robingrad.state import get_parameters\n",
    "from sklearn import datasets\n",
    "import pandas as pd\n",
    "import numpy as np\n",
    "import edamame.eda as eda\n",
    "import time\n",
    "from sklearn.metrics import confusion_matrix\n",
    "import seaborn as sns\n",
    "import matplotlib.pyplot as plt \n",
    "%matplotlib inline"
   ]
  },
  {
   "cell_type": "markdown",
   "id": "1ab03511-ad16-4706-8ceb-ec58c5b5b3aa",
   "metadata": {},
   "source": [
    "### Dataset"
   ]
  },
  {
   "cell_type": "code",
   "execution_count": 93,
   "id": "c1d321d8-6c23-48c4-9559-077cc2e007d6",
   "metadata": {},
   "outputs": [
    {
     "name": "stdout",
     "output_type": "stream",
     "text": [
      "(150, 4)\n",
      "<class 'numpy.ndarray'>\n",
      "(150,)\n",
      "<class 'numpy.ndarray'>\n",
      "3\n"
     ]
    }
   ],
   "source": [
    "iris = datasets.load_iris()\n",
    "X = iris.data\n",
    "y = iris.target\n",
    "print(X.shape)\n",
    "print(type(X))\n",
    "print(y.shape)\n",
    "print(type(y))\n",
    "num_classes = len(np.unique(y))\n",
    "print(num_classes)"
   ]
  },
  {
   "cell_type": "code",
   "execution_count": 94,
   "id": "e0ce4e2b-6951-445c-8729-6d35373b2b62",
   "metadata": {},
   "outputs": [
    {
     "data": {
      "text/html": [
       "<div>\n",
       "<style scoped>\n",
       "    .dataframe tbody tr th:only-of-type {\n",
       "        vertical-align: middle;\n",
       "    }\n",
       "\n",
       "    .dataframe tbody tr th {\n",
       "        vertical-align: top;\n",
       "    }\n",
       "\n",
       "    .dataframe thead th {\n",
       "        text-align: right;\n",
       "    }\n",
       "</style>\n",
       "<table border=\"1\" class=\"dataframe\">\n",
       "  <thead>\n",
       "    <tr style=\"text-align: right;\">\n",
       "      <th></th>\n",
       "      <th>sepal length (cm)</th>\n",
       "      <th>sepal width (cm)</th>\n",
       "      <th>petal length (cm)</th>\n",
       "      <th>petal width (cm)</th>\n",
       "    </tr>\n",
       "  </thead>\n",
       "  <tbody>\n",
       "    <tr>\n",
       "      <th>0</th>\n",
       "      <td>5.1</td>\n",
       "      <td>3.5</td>\n",
       "      <td>1.4</td>\n",
       "      <td>0.2</td>\n",
       "    </tr>\n",
       "    <tr>\n",
       "      <th>1</th>\n",
       "      <td>4.9</td>\n",
       "      <td>3.0</td>\n",
       "      <td>1.4</td>\n",
       "      <td>0.2</td>\n",
       "    </tr>\n",
       "    <tr>\n",
       "      <th>2</th>\n",
       "      <td>4.7</td>\n",
       "      <td>3.2</td>\n",
       "      <td>1.3</td>\n",
       "      <td>0.2</td>\n",
       "    </tr>\n",
       "    <tr>\n",
       "      <th>3</th>\n",
       "      <td>4.6</td>\n",
       "      <td>3.1</td>\n",
       "      <td>1.5</td>\n",
       "      <td>0.2</td>\n",
       "    </tr>\n",
       "    <tr>\n",
       "      <th>4</th>\n",
       "      <td>5.0</td>\n",
       "      <td>3.6</td>\n",
       "      <td>1.4</td>\n",
       "      <td>0.2</td>\n",
       "    </tr>\n",
       "  </tbody>\n",
       "</table>\n",
       "</div>"
      ],
      "text/plain": [
       "   sepal length (cm)  sepal width (cm)  petal length (cm)  petal width (cm)\n",
       "0                5.1               3.5                1.4               0.2\n",
       "1                4.9               3.0                1.4               0.2\n",
       "2                4.7               3.2                1.3               0.2\n",
       "3                4.6               3.1                1.5               0.2\n",
       "4                5.0               3.6                1.4               0.2"
      ]
     },
     "execution_count": 94,
     "metadata": {},
     "output_type": "execute_result"
    }
   ],
   "source": [
    "X = pd.DataFrame(X, columns=iris.feature_names)\n",
    "X.head()"
   ]
  },
  {
   "cell_type": "code",
   "execution_count": 95,
   "id": "36c5324f-0097-4573-b925-1e4d64359890",
   "metadata": {},
   "outputs": [
    {
     "data": {
      "text/plain": [
       "0    0\n",
       "1    0\n",
       "2    0\n",
       "3    0\n",
       "4    0\n",
       "dtype: int64"
      ]
     },
     "execution_count": 95,
     "metadata": {},
     "output_type": "execute_result"
    }
   ],
   "source": [
    "y = pd.Series(y)\n",
    "y.head()"
   ]
  },
  {
   "cell_type": "code",
   "execution_count": 96,
   "id": "4fbe526b-8ef4-47d6-9967-78250d56812b",
   "metadata": {},
   "outputs": [
    {
     "name": "stdout",
     "output_type": "stream",
     "text": [
      "(112, 4)\n",
      "(38, 4)\n",
      "(112,)\n",
      "(38,)\n"
     ]
    }
   ],
   "source": [
    "X_train, y_train, X_test, y_test = eda.setup(X,y)\n",
    "print(X_train.shape)\n",
    "print(X_test.shape)\n",
    "print(y_train.shape)\n",
    "print(y_test.shape)"
   ]
  },
  {
   "cell_type": "code",
   "execution_count": 97,
   "id": "f55c02cb-3223-495a-b6da-30cdfb3170be",
   "metadata": {},
   "outputs": [
    {
     "name": "stdout",
     "output_type": "stream",
     "text": [
      "(112, 4)\n",
      "(38, 4)\n",
      "(112,)\n",
      "(38,)\n"
     ]
    }
   ],
   "source": [
    "X_train_s = eda.scaling(X_train, minmaxscaler=True)\n",
    "X_test_s = eda.scaling(X_test, minmaxscaler=True)\n",
    "y_train = y_train.squeeze().to_numpy()\n",
    "y_test = y_test.squeeze().to_numpy()\n",
    "print(X_train_s.shape)\n",
    "print(X_test_s.shape)\n",
    "print(y_train.shape)\n",
    "print(y_test.shape)"
   ]
  },
  {
   "cell_type": "code",
   "execution_count": 98,
   "id": "bc9208ee-cf21-4b6b-9359-0fd4f57de6db",
   "metadata": {},
   "outputs": [
    {
     "data": {
      "text/plain": [
       "array([[1., 0., 0.],\n",
       "       [1., 0., 0.],\n",
       "       [0., 0., 1.],\n",
       "       [0., 1., 0.],\n",
       "       [0., 1., 0.]])"
      ]
     },
     "execution_count": 98,
     "metadata": {},
     "output_type": "execute_result"
    }
   ],
   "source": [
    "y_train_ohe = np.eye(num_classes)[y_train]\n",
    "y_train_ohe[:5]"
   ]
  },
  {
   "cell_type": "code",
   "execution_count": 100,
   "id": "8e07f333-1c9f-49a6-96dd-0f14538741e3",
   "metadata": {},
   "outputs": [
    {
     "name": "stdout",
     "output_type": "stream",
     "text": [
      "<class 'robingrad.tensor.Tensor'> (112, 4)\n",
      "<class 'robingrad.tensor.Tensor'> (112, 3)\n"
     ]
    }
   ],
   "source": [
    "X_train_t = Tensor(X_train_s, requires_grad=True)\n",
    "print(type(X_train_t), X_train_t.shape)\n",
    "y_train_ohe_t = Tensor(y_train_ohe, requires_grad=True).reshape((112,3))\n",
    "print(type(y_train_ohe_t), y_train_ohe_t.shape)"
   ]
  },
  {
   "cell_type": "code",
   "execution_count": 101,
   "id": "0fd32b80-b94c-43e2-bccc-965929937574",
   "metadata": {},
   "outputs": [
    {
     "data": {
      "text/plain": [
       "Tensor: slice\n",
       "data: \n",
       "[0.2647059  0.95454544 0.07142857 0.        ]\n",
       "grad: \n",
       "[0. 0. 0. 0.]\n",
       "dtype: float32"
      ]
     },
     "execution_count": 101,
     "metadata": {},
     "output_type": "execute_result"
    }
   ],
   "source": [
    "X_train_t[1]"
   ]
  },
  {
   "cell_type": "code",
   "execution_count": 204,
   "id": "e7a064b4-1dac-4395-85b1-7fb81b656d5d",
   "metadata": {},
   "outputs": [],
   "source": [
    "class RobinNet:\n",
    "    def __init__(self):\n",
    "        self.l1 = nn.Linear(4, 16)\n",
    "        self.l2 = nn.Linear(16, 16)\n",
    "        self.l3 = nn.Linear(16, 3)\n",
    "    def __call__(self, x):\n",
    "        x = self.l1(x)\n",
    "        x = x.relu()\n",
    "        x = self.l2(x)\n",
    "        x = x.relu()\n",
    "        x = self.l3(x)\n",
    "\n",
    "        return x"
   ]
  },
  {
   "cell_type": "code",
   "execution_count": 205,
   "id": "29d26290-f3bb-4231-9b0c-a99680ef1cef",
   "metadata": {},
   "outputs": [],
   "source": [
    "model = RobinNet()\n",
    "params = get_parameters(model)\n",
    "opt = SGD(params)"
   ]
  },
  {
   "cell_type": "code",
   "execution_count": 206,
   "id": "31ac5e67-28a3-4bdb-83ac-b5b96adeb8ad",
   "metadata": {},
   "outputs": [],
   "source": [
    "def cross_entropy_loss(forward_array, target):\n",
    "    exp_forward = forward_array.exp()\n",
    "    norm_term = Tensor.full_like(exp_forward, fill_value=exp_forward.sum().data, requires_grad=True)\n",
    "    softmax_vec = exp_forward/norm_term\n",
    "    neg_output = 1 - softmax_vec\n",
    "    try:\n",
    "        bce_losses = -(target * softmax_vec.log() + (1-target)*neg_output.log())\n",
    "        BCELoss = bce_losses.sum()\n",
    "        y_pred = softmax_vec.data.tolist()[0].index(max(softmax_vec.data.tolist()[0]))\n",
    "        return BCELoss, y_pred\n",
    "    except:\n",
    "        print(f\"forward_array: {forward_array.data}\")\n",
    "        print(f\"exp_forward: {exp_forward.data}\")\n",
    "        print(f\"norm_term: {norm_term.data}\")\n",
    "        print(f\"softmax_vec: {softmax_vec.data}\")\n",
    "        print(f\"neg_output: {neg_output.data}\")"
   ]
  },
  {
   "cell_type": "code",
   "execution_count": 207,
   "id": "3950fb95-72f5-4418-96c2-ab23e01569de",
   "metadata": {},
   "outputs": [],
   "source": [
    "def accuracy_val(y_pred, y_true):\n",
    "    y_pred = np.array(y_pred).round()\n",
    "    correct_results = np.sum(y_pred == y_true)\n",
    "    acc = correct_results/y_true.shape[0]\n",
    "    acc = np.round(acc * 100)\n",
    "    return acc"
   ]
  },
  {
   "cell_type": "code",
   "execution_count": 208,
   "id": "61c8ce40-7887-4346-b3a3-369d928cec48",
   "metadata": {},
   "outputs": [
    {
     "name": "stdout",
     "output_type": "stream",
     "text": [
      "epoch: 0 | loss: 2.32 | time: 0.09 sec. | acc: 43.00%\n",
      "epoch: 10 | loss: 0.60 | time: 0.08 sec. | acc: 90.00%\n",
      "epoch: 20 | loss: 0.59 | time: 0.07 sec. | acc: 88.00%\n",
      "epoch: 30 | loss: 0.37 | time: 0.07 sec. | acc: 96.00%\n",
      "forward_array: [[-5.0335493e+03 -5.0377456e+03 -3.0000003e+16]]\n",
      "exp_forward: [[0. 0. 0.]]\n",
      "norm_term: [[0. 0. 0.]]\n",
      "softmax_vec: [[nan nan nan]]\n",
      "neg_output: [[nan nan nan]]\n"
     ]
    },
    {
     "name": "stderr",
     "output_type": "stream",
     "text": [
      "/Users/marcosalvalaggio/opt/anaconda3/lib/python3.9/site-packages/robingrad/tensor.py:164: RuntimeWarning: overflow encountered in multiply\n",
      "  other.grad += np.sum(self.data * out.grad, axis=0) if other.data.shape != out.data.shape else (self.data * out.grad)\n",
      "/Users/marcosalvalaggio/opt/anaconda3/lib/python3.9/site-packages/robingrad/tensor.py:174: RuntimeWarning: invalid value encountered in multiply\n",
      "  self.grad += (other * self.data**(other-1)) * out.grad\n",
      "/Users/marcosalvalaggio/opt/anaconda3/lib/python3.9/site-packages/robingrad/tensor.py:171: RuntimeWarning: divide by zero encountered in reciprocal\n",
      "  out = Tensor(self.data ** other, dtype=self.data.dtype, _children=(self,), _op=f'**{other}', _origin=\"__pow__\", requires_grad=self.requires_grad)\n",
      "/Users/marcosalvalaggio/opt/anaconda3/lib/python3.9/site-packages/robingrad/tensor.py:158: RuntimeWarning: invalid value encountered in multiply\n",
      "  out = Tensor(self.data * other.data, dtype=self.data.dtype, _children=(self, other), _op='*', _origin=\"__mul__\", requires_grad=self.requires_grad)\n",
      "/Users/marcosalvalaggio/opt/anaconda3/lib/python3.9/site-packages/robingrad/tensor.py:136: RuntimeWarning: invalid value encountered in log\n",
      "  out = Tensor(np.log(x), dtype=self.data.dtype, _children=(self,), _op=\"log()\", _origin=\"log\", requires_grad=self.requires_grad)\n"
     ]
    },
    {
     "ename": "TypeError",
     "evalue": "cannot unpack non-iterable NoneType object",
     "output_type": "error",
     "traceback": [
      "\u001b[0;31m---------------------------------------------------------------------------\u001b[0m",
      "\u001b[0;31mTypeError\u001b[0m                                 Traceback (most recent call last)",
      "Input \u001b[0;32mIn [208]\u001b[0m, in \u001b[0;36m<cell line: 2>\u001b[0;34m()\u001b[0m\n\u001b[1;32m      6\u001b[0m \u001b[38;5;28;01mfor\u001b[39;00m i \u001b[38;5;129;01min\u001b[39;00m \u001b[38;5;28mrange\u001b[39m(X_train_t\u001b[38;5;241m.\u001b[39mshape[\u001b[38;5;241m0\u001b[39m]):\n\u001b[1;32m      7\u001b[0m     output \u001b[38;5;241m=\u001b[39m model(X_train_t[i]\u001b[38;5;241m.\u001b[39mreshape((\u001b[38;5;241m1\u001b[39m,\u001b[38;5;241m4\u001b[39m)))\n\u001b[0;32m----> 8\u001b[0m     loss, y_pred_i \u001b[38;5;241m=\u001b[39m cross_entropy_loss(output, y_train_ohe_t[i]\u001b[38;5;241m.\u001b[39mreshape((\u001b[38;5;241m1\u001b[39m,\u001b[38;5;241m3\u001b[39m)))\n\u001b[1;32m      9\u001b[0m     losses\u001b[38;5;241m.\u001b[39mappend(loss\u001b[38;5;241m.\u001b[39mdata)\n\u001b[1;32m     10\u001b[0m     y_pred\u001b[38;5;241m.\u001b[39mappend(y_pred_i)\n",
      "\u001b[0;31mTypeError\u001b[0m: cannot unpack non-iterable NoneType object"
     ]
    }
   ],
   "source": [
    "epochs = 100\n",
    "for epoch in range(epochs):\n",
    "    y_pred = []\n",
    "    losses = []\n",
    "    s = time.monotonic()\n",
    "    for i in range(X_train_t.shape[0]):\n",
    "        output = model(X_train_t[i].reshape((1,4)))\n",
    "        loss, y_pred_i = cross_entropy_loss(output, y_train_ohe_t[i].reshape((1,3)))\n",
    "        losses.append(loss.data)\n",
    "        y_pred.append(y_pred_i)\n",
    "        opt.zero_grad()\n",
    "        loss.backward()\n",
    "        opt.step()\n",
    "    e = time.monotonic()\n",
    "    t = e - s\n",
    "    acc = accuracy_val(y_pred=y_pred, y_true=y_train)\n",
    "    loss_epoch = sum(losses)/len(losses)\n",
    "    if epoch % 10 == 0 or epoch==(epochs-1):\n",
    "        print(f\"epoch: {epoch} | loss: {loss_epoch:.2f} | time: {t:.2f} sec. | acc: {acc:.2f}%\")"
   ]
  },
  {
   "cell_type": "code",
   "execution_count": null,
   "id": "978d9105-f2f5-464a-9c28-aab4c93b2a20",
   "metadata": {},
   "outputs": [],
   "source": [
    "model = RobinNet()\n",
    "params = get_parameters(model)\n",
    "opt = SGD(params)"
   ]
  },
  {
   "cell_type": "code",
   "execution_count": null,
   "id": "6ec9998b-d49f-4bd4-916d-cf7ee5d4c981",
   "metadata": {},
   "outputs": [],
   "source": [
    "index = 25\n",
    "output = model(X_train_t[index].reshape((1,4)))\n",
    "print(f\"output: {output.data}\")\n",
    "target = y_train_ohe_t[index].reshape((1,3))\n",
    "print(f\"target: {target.data}\")\n",
    "y_true = y_train[index]\n",
    "print(f\"y_true: {y_true}\")\n",
    "def cross_entropy_loss(forward_array, target):\n",
    "    print(f\"forward_array: {forward_array}\")\n",
    "    exp_forward = forward_array.exp()\n",
    "    print(f\"exp_forward: {exp_forward.data}\")\n",
    "    norm_term = Tensor.full_like(exp_forward, fill_value=exp_forward.sum().data, requires_grad=True)\n",
    "    print(f\"norm_term: {norm_term.data}\")\n",
    "    softmax_vec = exp_forward/norm_term\n",
    "    print(f\"softmax_vec: {softmax_vec.data}\")\n",
    "    neg_output = 1 - softmax_vec\n",
    "    print(f\"neg_output: {neg_output.data}\")\n",
    "    bce_losses = -(target * softmax_vec.log() + (1-target)*neg_output.log())\n",
    "    print(f\"bce_losses: {bce_losses.data}\")\n",
    "    BCELoss = bce_losses.sum()\n",
    "    print(f\"BCELoss: {BCELoss.data}\")\n",
    "    y_pred = softmax_vec.data.tolist()[0].index(max(softmax_vec.data.tolist()[0]))\n",
    "    return BCELoss, y_pred\n",
    "loss, pred = cross_entropy_loss(output, target)\n",
    "opt.zero_grad()\n",
    "loss.backward()\n",
    "opt.step()\n",
    "print(pred)"
   ]
  }
 ],
 "metadata": {
  "kernelspec": {
   "display_name": "Python 3 (ipykernel)",
   "language": "python",
   "name": "python3"
  },
  "language_info": {
   "codemirror_mode": {
    "name": "ipython",
    "version": 3
   },
   "file_extension": ".py",
   "mimetype": "text/x-python",
   "name": "python",
   "nbconvert_exporter": "python",
   "pygments_lexer": "ipython3",
   "version": "3.9.12"
  }
 },
 "nbformat": 4,
 "nbformat_minor": 5
}
