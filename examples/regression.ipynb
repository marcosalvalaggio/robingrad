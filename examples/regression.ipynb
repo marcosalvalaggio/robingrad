{
 "cells": [
  {
   "cell_type": "markdown",
   "metadata": {},
   "source": [
    "## Regression"
   ]
  },
  {
   "cell_type": "code",
   "execution_count": null,
   "metadata": {},
   "outputs": [],
   "source": [
    "from robingrad import Tensor, draw_dot\n",
    "import robingrad.nn as nn\n",
    "from robingrad.optim import SGD\n",
    "from robingrad.state import get_parameters\n",
    "from sklearn.datasets import make_regression\n",
    "import numpy as np\n",
    "import time\n",
    "from sklearn.metrics import r2_score"
   ]
  },
  {
   "cell_type": "markdown",
   "metadata": {},
   "source": [
    "### Dataset"
   ]
  },
  {
   "cell_type": "code",
   "execution_count": null,
   "metadata": {},
   "outputs": [],
   "source": [
    "X, y = make_regression(n_samples=200, n_features=5, n_targets=1, random_state=42)\n",
    "print(X.shape)\n",
    "print(y.shape)\n",
    "print(X[0])\n",
    "print(y[0:5])"
   ]
  },
  {
   "cell_type": "code",
   "execution_count": null,
   "metadata": {},
   "outputs": [],
   "source": [
    "X_train = Tensor(X, requires_grad=True)\n",
    "print(type(X_train), X_train.shape)\n",
    "y_train = Tensor(y, requires_grad=True)\n",
    "print(type(y_train), y_train.shape)"
   ]
  },
  {
   "cell_type": "markdown",
   "metadata": {},
   "source": [
    "### Model"
   ]
  },
  {
   "cell_type": "code",
   "execution_count": null,
   "metadata": {},
   "outputs": [],
   "source": [
    "class RobinNet:\n",
    "    def __init__(self):\n",
    "        self.l1 = nn.Linear(5,16)\n",
    "        self.l2 = nn.Linear(16,1)\n",
    "    def __call__(self, x):\n",
    "        x = self.l1(x)\n",
    "        x = x.relu()\n",
    "        x = self.l2(x)\n",
    "        return x\n",
    "        \n",
    "model = RobinNet()"
   ]
  },
  {
   "cell_type": "code",
   "execution_count": null,
   "metadata": {},
   "outputs": [],
   "source": [
    "res = model(X_train[0].reshape((1,5)))\n",
    "res"
   ]
  },
  {
   "cell_type": "code",
   "execution_count": null,
   "metadata": {},
   "outputs": [],
   "source": [
    "draw_dot(res)"
   ]
  },
  {
   "cell_type": "code",
   "execution_count": null,
   "metadata": {},
   "outputs": [],
   "source": [
    "opt = SGD(model=model)"
   ]
  },
  {
   "cell_type": "code",
   "execution_count": null,
   "metadata": {},
   "outputs": [],
   "source": [
    "opt.params"
   ]
  },
  {
   "cell_type": "code",
   "execution_count": null,
   "metadata": {},
   "outputs": [],
   "source": [
    "len(opt.params)"
   ]
  },
  {
   "cell_type": "code",
   "execution_count": null,
   "metadata": {},
   "outputs": [],
   "source": [
    "opt.lr"
   ]
  },
  {
   "cell_type": "code",
   "execution_count": null,
   "metadata": {},
   "outputs": [],
   "source": []
  },
  {
   "cell_type": "code",
   "execution_count": null,
   "metadata": {},
   "outputs": [],
   "source": [
    "from robingrad.state import get_parameters"
   ]
  },
  {
   "cell_type": "code",
   "execution_count": null,
   "metadata": {},
   "outputs": [],
   "source": [
    "params = get_parameters(model)"
   ]
  },
  {
   "cell_type": "code",
   "execution_count": null,
   "metadata": {},
   "outputs": [],
   "source": [
    "len(params)"
   ]
  },
  {
   "cell_type": "code",
   "execution_count": null,
   "metadata": {},
   "outputs": [],
   "source": [
    "params[3]"
   ]
  },
  {
   "cell_type": "code",
   "execution_count": null,
   "metadata": {},
   "outputs": [],
   "source": [
    "epochs = 100\n",
    "for epoch in range(epochs):\n",
    "    y_pred = []\n",
    "    losses = []\n",
    "    s = time.monotonic()\n",
    "    for i in range(X_train.shape[0]):\n",
    "        output = model(X_train[i].reshape((1,5)))\n",
    "        y_pred.append(float(output.data[0]))\n",
    "        target = y_train[i].reshape((1,1))\n",
    "        loss = (output-target)**2\n",
    "        losses.append(float(loss.data[0]))\n",
    "        opt.zero_grad()\n",
    "        loss.backward()\n",
    "        opt.step()\n",
    "    e = time.monotonic()\n",
    "    t = e - s\n",
    "    loss_epoch = sum(losses)/ len(losses)\n",
    "    r2 = r2_score(y, y_pred)\n",
    "    if epoch % 10 == 0 or epoch == epochs-1:\n",
    "        print(f\"epoch: {epoch} | loss: {loss_epoch:.2f} | R2: {r2:.2f} | time: {t:.2f} sec.\")"
   ]
  },
  {
   "cell_type": "code",
   "execution_count": null,
   "metadata": {},
   "outputs": [],
   "source": [
    "epochs = 100\n",
    "for epoch in range(epochs):\n",
    "    y_pred = []\n",
    "    losses = []\n",
    "    s = time.monotonic()\n",
    "    for i in range(X_train.shape[0]):\n",
    "        output = model(X_train[i].reshape((1,5)))\n",
    "        y_pred.append(float(output.data[0]))\n",
    "        target = y_train[i].reshape((1,1))\n",
    "        loss = (output-target)**2\n",
    "        losses.append(float(loss.data[0]))\n",
    "        loss.backward()\n",
    "        for p in [model.l1.weight, model.l1.bias, model.l2.weight, model.l2.bias]:\n",
    "            p.data += -3e-4*p.grad\n",
    "        for p in [model.l1.weight, model.l1.bias, model.l2.weight, model.l2.bias]:\n",
    "            p.grad = np.zeros_like(p.grad)\n",
    "    e = time.monotonic()\n",
    "    t = e - s\n",
    "    loss_epoch = sum(losses)/ len(losses)\n",
    "    r2 = r2_score(y, y_pred)\n",
    "    if epoch % 10 == 0 or epoch == epochs-1:\n",
    "        print(f\"epoch: {epoch} | loss: {loss_epoch:.2f} | R2: {r2:.2f} | time: {t:.2f} sec.\")\n",
    "        "
   ]
  },
  {
   "cell_type": "code",
   "execution_count": null,
   "metadata": {},
   "outputs": [],
   "source": [
    "loss_epoch = sum(losses)/ len(losses)\n",
    "loss_epoch"
   ]
  },
  {
   "cell_type": "code",
   "execution_count": null,
   "metadata": {},
   "outputs": [],
   "source": [
    "import matplotlib.pyplot as plt"
   ]
  },
  {
   "cell_type": "code",
   "execution_count": null,
   "metadata": {},
   "outputs": [],
   "source": [
    "x = [i for i in range(len(X))]\n",
    "plt.scatter(x, y)\n",
    "plt.scatter(x, y_pred, color='red', alpha=0.3)\n",
    "plt.show()"
   ]
  }
 ],
 "metadata": {
  "kernelspec": {
   "display_name": "Python 3 (ipykernel)",
   "language": "python",
   "name": "python3"
  },
  "language_info": {
   "codemirror_mode": {
    "name": "ipython",
    "version": 3
   },
   "file_extension": ".py",
   "mimetype": "text/x-python",
   "name": "python",
   "nbconvert_exporter": "python",
   "pygments_lexer": "ipython3",
   "version": "3.9.12"
  }
 },
 "nbformat": 4,
 "nbformat_minor": 4
}
